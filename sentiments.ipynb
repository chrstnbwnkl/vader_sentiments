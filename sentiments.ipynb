{
 "cells": [
  {
   "cell_type": "code",
   "execution_count": 1,
   "metadata": {},
   "outputs": [],
   "source": [
    "import psycopg2 as db\n",
    "import pandas as pd\n",
    "import geopandas as gpd\n",
    "from dotenv import dotenv_values\n",
    "from senti_preprocess.senti_preprocess.twitter import remove_urls, remove_mentions, segment_hashtags"
   ]
  },
  {
   "cell_type": "code",
   "execution_count": 2,
   "metadata": {},
   "outputs": [],
   "source": [
    "conn_twitter = db.connect(**dotenv_values())"
   ]
  },
  {
   "cell_type": "markdown",
   "metadata": {},
   "source": [
    "# Sentiment analysis on Twitter and TripAdvisor"
   ]
  },
  {
   "cell_type": "markdown",
   "metadata": {},
   "source": [
    "In this notebook, a sentiment analysis on a one month sample of POI tweets and TripAdvisor reviews located in London is performed. The [Valence Aware Dictionary and sEntiment Reasoner](https://github.com/cjhutto/vaderSentiment) will be used, which is a lexicon and rule based sentiment analyzer and was sepcifically developed for analyzing social media text data. First up: Twitter. "
   ]
  },
  {
   "cell_type": "markdown",
   "metadata": {},
   "source": [
    "## Twitter"
   ]
  },
  {
   "cell_type": "markdown",
   "metadata": {},
   "source": [
    "### 1. Load data"
   ]
  },
  {
   "cell_type": "code",
   "execution_count": 3,
   "metadata": {},
   "outputs": [],
   "source": [
    "tweet_sample_query = \"\"\"\n",
    "SELECT\n",
    "    sq.id, sq.text, sq.place_full_name, sq.place_geom, sq.location_within_london\n",
    "FROM\n",
    "    (\n",
    "        SELECT\n",
    "            *\n",
    "        FROM\n",
    "            tweets_sample\n",
    "        JOIN\n",
    "            user_classification as uc\n",
    "        ON\n",
    "            tweets_sample.user_id = uc.user_id\n",
    "    ) as sq, greater_london\n",
    "WHERE\n",
    "    sq.place_type = 'poi'\n",
    "AND\n",
    "    sq.lang = 'en'\n",
    "AND ST_WITHIN(sq.place_geom, greater_london.geometry)\n",
    "\"\"\""
   ]
  },
  {
   "cell_type": "code",
   "execution_count": 4,
   "metadata": {},
   "outputs": [],
   "source": [
    "df = pd.read_sql(tweet_sample_query, conn_twitter)"
   ]
  },
  {
   "cell_type": "markdown",
   "metadata": {},
   "source": [
    "### 2. Preprocess tweets\n",
    "\n",
    "Three preprocessing steps are performed on each tweet:\n",
    "   1. ```\n",
    "   remove_urls()\n",
    "   ``` removes any urls from the tweet by matching ```r\"http\\S+\"``` and replacing any matches with a space.\n",
    "   2. ```\n",
    "   remove_mentions()\n",
    "   ```removes any mentions from the tweet by matching ```r\"@[A-Za-z0-9]+\"``` and replacing any matches with a space.\n",
    "   3. ```\n",
    "   segment_hashtags()\n",
    "   ``` finds all the hashtags in a tweet, and looks for those that contain medial capitals (also informally known as camel casing or camelCasing). These are separated into the single words, and the tweet with now segmented hashtags is returned."
   ]
  },
  {
   "cell_type": "code",
   "execution_count": 5,
   "metadata": {},
   "outputs": [],
   "source": [
    "def clean_tweet(tweet_string):\n",
    "    tweet_string = remove_urls(tweet_string)\n",
    "    tweet_string = remove_mentions(tweet_string)\n",
    "    tweet_string = segment_hashtags(tweet_string)\n",
    "    return tweet_string"
   ]
  },
  {
   "cell_type": "code",
   "execution_count": 6,
   "metadata": {},
   "outputs": [],
   "source": [
    "df[\"cleaned_tweet\"] = df[\"text\"].apply(clean_tweet)"
   ]
  },
  {
   "cell_type": "code",
   "execution_count": 7,
   "metadata": {},
   "outputs": [
    {
     "name": "stdout",
     "output_type": "stream",
     "text": [
      "------------------------0-------------------------\n",
      "UNCLEANED:\n",
      " Merry Christmas from me and my lychee martini 🎄❤️ https://t.co/HbdX8SnBZc\n",
      "CLEANED:\n",
      " Merry Christmas from me and my lychee martini 🎄❤️  \n",
      "------------------------1-------------------------\n",
      "UNCLEANED:\n",
      " @missionswl #Emmanuel #God in #Christ #Jesus\n",
      "is with us #ChristmasDay #yesterday #TOMORROWFOREVER #CMCWorship #AllareWelcome\n",
      "Chelsea Fulham Methodist Church\n",
      "Revd Mark Davenport minister https://t.co/RONFPHmgM7\n",
      "CLEANED:\n",
      "    Emmanuel  God in  Christ  Jesus\n",
      "is with us   Christmas Day yesterday TOMORROWFOREVER CMC Worship  Allare Welcome\n",
      "Chelsea Fulham Methodist Church\n",
      "Revd Mark Davenport minister  \n",
      "------------------------2-------------------------\n",
      "UNCLEANED:\n",
      " Ever wondered what Jeremy @theJeremyVine does on Christmas Day? Well, now you know...\n",
      "#ChristmasDay #cycling #Battersea https://t.co/wtqZkybOAF\n",
      "CLEANED:\n",
      " Ever wondered what Jeremy   does on Christmas Day? Well, now you know...\n",
      " Christmas Day cycling  Battersea  \n",
      "------------------------3-------------------------\n",
      "UNCLEANED:\n",
      " A whopping 2545 runners this morning at @bushyparkrun, WOW! What a beautiful day it was and a fab way to start off Christmas. #loveparkrun https://t.co/mi0Nf2O2wi\n",
      "CLEANED:\n",
      " A whopping 2545 runners this morning at  , WOW! What a beautiful day it was and a fab way to start off Christmas. loveparkrun  \n",
      "------------------------4-------------------------\n",
      "UNCLEANED:\n",
      " Art pic; Colours; Red.  Ladybug /Ladybird, Warren farm August 2019.  By @Neil_HW_\n",
      "\n",
      "Staying mainly dry, possibly for a few days with a peppering of rain here and there.\n",
      "\n",
      "#StormHour #ThePhotoHour\n",
      "#ProtectWarrenFarm\n",
      "#naturefirst https://t.co/OLb5ZTbsGI\n",
      "CLEANED:\n",
      " Art pic; Colours; Red.  Ladybug /Ladybird, Warren farm August 2019.  By  _HW_\n",
      "\n",
      "Staying mainly dry, possibly for a few days with a peppering of rain here and there.\n",
      "\n",
      " Storm Hour  The Photo Hour\n",
      " Protect Warren Farm\n",
      "naturefirst  \n",
      "------------------------5-------------------------\n",
      "UNCLEANED:\n",
      " @hammersmithandy the holidays are over. Get back to work and fix our roads properly. Months and millions wasted by ineffective local labour? Seriously, who signed this off? Disgusting this is what you do to our local streets. Would you accept this if you lived on this street? https://t.co/VwmaaYH0qM\n",
      "CLEANED:\n",
      "   the holidays are over. Get back to work and fix our roads properly. Months and millions wasted by ineffective local labour? Seriously, who signed this off? Disgusting this is what you do to our local streets. Would you accept this if you lived on this street?  \n",
      "------------------------6-------------------------\n",
      "UNCLEANED:\n",
      " Only bit of travelling I need to do this Christmas &amp; as I walk into station (at a breathless pace with 3mins to spare) I hear the train is cancelled. Next one in an hour. I cant be bothered to walk back home  (I'll prob be almost late again if I do) so sat watching world go by\n",
      "CLEANED:\n",
      " Only bit of travelling I need to do this Christmas &amp; as I walk into station (at a breathless pace with 3mins to spare) I hear the train is cancelled. Next one in an hour. I cant be bothered to walk back home  (I'll prob be almost late again if I do) so sat watching world go by\n",
      "------------------------7-------------------------\n",
      "UNCLEANED:\n",
      " Seems the appropriate place to start the 50th birthday #theSmiths https://t.co/5mBZmNbpSU\n",
      "CLEANED:\n",
      " Seems the appropriate place to start the 50th birthday the Smiths  \n",
      "------------------------8-------------------------\n",
      "UNCLEANED:\n",
      " Triple-parked on my 30th. Time for Las Vegas with @JessamineKate 🥳 https://t.co/CY974CDQVA\n",
      "CLEANED:\n",
      " Triple-parked on my 30th. Time for Las Vegas with   🥳  \n",
      "------------------------9-------------------------\n",
      "UNCLEANED:\n",
      " @RedbrickedSlums very lovely,  soothing, and hopeful,  thankyou\n",
      "CLEANED:\n",
      "   very lovely,  soothing, and hopeful,  thankyou\n",
      "------------------------10------------------------\n",
      "UNCLEANED:\n",
      " The Tricycle by Fernando Arrabal\n",
      "\n",
      "Strangely light-hearted tale of poverty and murder starts this January 2020 in Barons Court Theate in London\n",
      "\n",
      "Follow us on https://t.co/4ZoSurj90E or https://t.co/ZPtRQsJu7A for more information!\n",
      "\n",
      "#theatre #london https://t.co/xfnvmHsoca\n",
      "CLEANED:\n",
      " The Tricycle by Fernando Arrabal\n",
      "\n",
      "Strangely light-hearted tale of poverty and murder starts this January 2020 in Barons Court Theate in London\n",
      "\n",
      "Follow us on   or   for more information!\n",
      "\n",
      "theatre london  \n",
      "------------------------11------------------------\n",
      "UNCLEANED:\n",
      " @atptour @Cristiano @DjokerNole 2 legends ⚽️🥎💪💪\n",
      "CLEANED:\n",
      "       2 legends ⚽️🥎💪💪\n",
      "------------------------12------------------------\n",
      "UNCLEANED:\n",
      " @imaginecurve I have used the wrong card to make a transaction and cant go back in time as its over £1k. Have emailed Curve Supprpt 24hrs ago but no response. Need advice ASAP as it's an important payment\n",
      "CLEANED:\n",
      "   I have used the wrong card to make a transaction and cant go back in time as its over £1k. Have emailed Curve Supprpt 24hrs ago but no response. Need advice ASAP as it's an important payment\n",
      "------------------------13------------------------\n",
      "UNCLEANED:\n",
      " Sunnying shortly! https://t.co/P8OBmu9ZPB\n",
      "CLEANED:\n",
      " Sunnying shortly!  \n",
      "------------------------14------------------------\n",
      "UNCLEANED:\n",
      " If I was looking for a word to describe the Gents toilets at the Victoria and Albert museum, that word would be pink. \n",
      "#FridayThoughts #Kensington #toilets https://t.co/eHzKAHB5Sk\n",
      "CLEANED:\n",
      " If I was looking for a word to describe the Gents toilets at the Victoria and Albert museum, that word would be pink. \n",
      " Friday Thoughts  Kensington toilets  \n",
      "------------------------15------------------------\n",
      "UNCLEANED:\n",
      " The weather is soo cold😿💗 https://t.co/yHW8rdop7V\n",
      "CLEANED:\n",
      " The weather is soo cold😿💗  \n",
      "------------------------16------------------------\n",
      "UNCLEANED:\n",
      " @joepike @BorisJohnson @itvcalendar How dare you @joepike try and make @BorisJohnson engage with the people of this country and for him to go off script 😒 he doesn’t want to engage, it’s better to keep the leavers on side by saying the same nonsense. #VoteNotTory\n",
      "CLEANED:\n",
      "       How dare you   try and make   engage with the people of this country and for him to go off script 😒 he doesn’t want to engage, it’s better to keep the leavers on side by saying the same nonsense.  Vote Not Tory\n",
      "------------------------17------------------------\n",
      "UNCLEANED:\n",
      " 📣 The start of the #NATOEngages conference, the official event accompanying the #NATO Leaders Meeting in London. \n",
      "\n",
      "Heads of state and experts gathered at Westminster to discuss the future of the Alliance. \n",
      "\n",
      "Main topics: #Innovating the Alliance and #CyberSecurity 💻 https://t.co/wXPqU00zmA\n",
      "CLEANED:\n",
      " 📣 The start of the NATO Engages conference, the official event accompanying the NATO Leaders Meeting in London. \n",
      "\n",
      "Heads of state and experts gathered at Westminster to discuss the future of the Alliance. \n",
      "\n",
      "Main topics:  Innovating the Alliance and  Cyber Security 💻  \n",
      "------------------------18------------------------\n",
      "UNCLEANED:\n",
      " Great ideas being discussed at this morning's @TechDataASUK Healthcare ecosystem #designthinkingworkshop. Partners and IBMers focused on Healthcare clients looking at how to create best of breed solutions. https://t.co/oyMoxkYQYf\n",
      "CLEANED:\n",
      " Great ideas being discussed at this morning's   Healthcare ecosystem designthinkingworkshop. Partners and IBMers focused on Healthcare clients looking at how to create best of breed solutions.  \n",
      "------------------------19------------------------\n",
      "UNCLEANED:\n",
      " 1pm. Improving crowd resilience :) https://t.co/epnCu6IyVB\n",
      "CLEANED:\n",
      " 1pm. Improving crowd resilience :)  \n"
     ]
    }
   ],
   "source": [
    "# Sample exploration\n",
    "for i in range(20):\n",
    "    print(\"{:-^50}\".format(i))\n",
    "    for column, descr in zip([\"text\", \"cleaned_tweet\"], [\"UNCLEANED\", \"CLEANED\"]):\n",
    "        print(f'{descr}:\\n {df.iloc[i][column]}')\n",
    "    "
   ]
  },
  {
   "cell_type": "markdown",
   "metadata": {},
   "source": [
    "The cleaned tweets look good, and the hashtag segmentation seems to work as expected. So let's feed the data into the analyzer"
   ]
  },
  {
   "cell_type": "markdown",
   "metadata": {},
   "source": [
    "### 3. Sentiment analysis"
   ]
  },
  {
   "cell_type": "code",
   "execution_count": 8,
   "metadata": {},
   "outputs": [],
   "source": [
    "import vaderSentiment.vaderSentiment as vader"
   ]
  },
  {
   "cell_type": "code",
   "execution_count": 9,
   "metadata": {},
   "outputs": [],
   "source": [
    "senti_analyzer = vader.SentimentIntensityAnalyzer()"
   ]
  },
  {
   "cell_type": "code",
   "execution_count": 10,
   "metadata": {},
   "outputs": [],
   "source": [
    "def calculate_sentiment(series):\n",
    "    tweet = series[\"cleaned_tweet\"]\n",
    "    sentiment = senti_analyzer.polarity_scores(tweet)\n",
    "    for key in sentiment.keys():\n",
    "        series[key] = sentiment[key]\n",
    "    return series"
   ]
  },
  {
   "cell_type": "code",
   "execution_count": 11,
   "metadata": {},
   "outputs": [],
   "source": [
    "df = df.apply(calculate_sentiment, axis=1)"
   ]
  },
  {
   "cell_type": "code",
   "execution_count": 12,
   "metadata": {},
   "outputs": [
    {
     "data": {
      "text/html": [
       "<div>\n",
       "<style scoped>\n",
       "    .dataframe tbody tr th:only-of-type {\n",
       "        vertical-align: middle;\n",
       "    }\n",
       "\n",
       "    .dataframe tbody tr th {\n",
       "        vertical-align: top;\n",
       "    }\n",
       "\n",
       "    .dataframe thead th {\n",
       "        text-align: right;\n",
       "    }\n",
       "</style>\n",
       "<table border=\"1\" class=\"dataframe\">\n",
       "  <thead>\n",
       "    <tr style=\"text-align: right;\">\n",
       "      <th></th>\n",
       "      <th>id</th>\n",
       "      <th>text</th>\n",
       "      <th>place_full_name</th>\n",
       "      <th>place_geom</th>\n",
       "      <th>location_within_london</th>\n",
       "      <th>cleaned_tweet</th>\n",
       "      <th>neg</th>\n",
       "      <th>neu</th>\n",
       "      <th>pos</th>\n",
       "      <th>compound</th>\n",
       "    </tr>\n",
       "  </thead>\n",
       "  <tbody>\n",
       "    <tr>\n",
       "      <th>0</th>\n",
       "      <td>1209819446329724929</td>\n",
       "      <td>Merry Christmas from me and my lychee martini ...</td>\n",
       "      <td>Mandarin Oriental Hyde Park</td>\n",
       "      <td>0101000020E610000094A5D6FB8D76C4BFF8544E7B4AC0...</td>\n",
       "      <td>unclassified</td>\n",
       "      <td>Merry Christmas from me and my lychee martini ...</td>\n",
       "      <td>0.0</td>\n",
       "      <td>0.759</td>\n",
       "      <td>0.241</td>\n",
       "      <td>0.5423</td>\n",
       "    </tr>\n",
       "    <tr>\n",
       "      <th>1</th>\n",
       "      <td>1209819577770762240</td>\n",
       "      <td>@missionswl #Emmanuel #God in #Christ #Jesus\\n...</td>\n",
       "      <td>Chelsea Methodist Church</td>\n",
       "      <td>0101000020E6100000DA1EBDE13E72C5BF30DAE38574BE...</td>\n",
       "      <td>local</td>\n",
       "      <td>Emmanuel  God in  Christ  Jesus\\nis with us...</td>\n",
       "      <td>0.0</td>\n",
       "      <td>0.742</td>\n",
       "      <td>0.258</td>\n",
       "      <td>0.7430</td>\n",
       "    </tr>\n",
       "    <tr>\n",
       "      <th>2</th>\n",
       "      <td>1209820427528409089</td>\n",
       "      <td>Ever wondered what Jeremy @theJeremyVine does ...</td>\n",
       "      <td>Battersea Power Station</td>\n",
       "      <td>0101000020E6100000978C63247B84C2BF3ECF9F36AABD...</td>\n",
       "      <td>local</td>\n",
       "      <td>Ever wondered what Jeremy   does on Christmas ...</td>\n",
       "      <td>0.0</td>\n",
       "      <td>0.877</td>\n",
       "      <td>0.123</td>\n",
       "      <td>0.2732</td>\n",
       "    </tr>\n",
       "    <tr>\n",
       "      <th>3</th>\n",
       "      <td>1209820766486900736</td>\n",
       "      <td>A whopping 2545 runners this morning at @bushy...</td>\n",
       "      <td>Bushy parkrun</td>\n",
       "      <td>0101000020E6100000419DF2E84658D5BF3F1D8F19A8B4...</td>\n",
       "      <td>unclassified</td>\n",
       "      <td>A whopping 2545 runners this morning at  , WOW...</td>\n",
       "      <td>0.0</td>\n",
       "      <td>0.642</td>\n",
       "      <td>0.358</td>\n",
       "      <td>0.9140</td>\n",
       "    </tr>\n",
       "    <tr>\n",
       "      <th>4</th>\n",
       "      <td>1210515867903123456</td>\n",
       "      <td>Art pic; Colours; Red.  Ladybug /Ladybird, War...</td>\n",
       "      <td>Warren Farm</td>\n",
       "      <td>0101000020E6100000AFD2DD7536E4D6BF0F0C207C28BF...</td>\n",
       "      <td>unclassified</td>\n",
       "      <td>Art pic; Colours; Red.  Ladybug /Ladybird, War...</td>\n",
       "      <td>0.0</td>\n",
       "      <td>0.933</td>\n",
       "      <td>0.067</td>\n",
       "      <td>0.3818</td>\n",
       "    </tr>\n",
       "    <tr>\n",
       "      <th>...</th>\n",
       "      <td>...</td>\n",
       "      <td>...</td>\n",
       "      <td>...</td>\n",
       "      <td>...</td>\n",
       "      <td>...</td>\n",
       "      <td>...</td>\n",
       "      <td>...</td>\n",
       "      <td>...</td>\n",
       "      <td>...</td>\n",
       "      <td>...</td>\n",
       "    </tr>\n",
       "    <tr>\n",
       "      <th>23428</th>\n",
       "      <td>1209810083829428225</td>\n",
       "      <td>Merry Christmas everyone 🍻 https://t.co/oNube4...</td>\n",
       "      <td>The Archers</td>\n",
       "      <td>0101000020E6100000C6FD47A643A7C93F88BB7A1519CB...</td>\n",
       "      <td>tourist</td>\n",
       "      <td>Merry Christmas everyone 🍻</td>\n",
       "      <td>0.0</td>\n",
       "      <td>0.588</td>\n",
       "      <td>0.412</td>\n",
       "      <td>0.5423</td>\n",
       "    </tr>\n",
       "    <tr>\n",
       "      <th>23429</th>\n",
       "      <td>1209811961879441413</td>\n",
       "      <td>Happy and peaceful Christmas to all https://t....</td>\n",
       "      <td>The Church of Our Most Holy Redeemer</td>\n",
       "      <td>0101000020E6100000E2218C9FC6BDC5BF677E350708BE...</td>\n",
       "      <td>tourist</td>\n",
       "      <td>Happy and peaceful Christmas to all</td>\n",
       "      <td>0.0</td>\n",
       "      <td>0.367</td>\n",
       "      <td>0.633</td>\n",
       "      <td>0.7845</td>\n",
       "    </tr>\n",
       "    <tr>\n",
       "      <th>23430</th>\n",
       "      <td>1209815028796469248</td>\n",
       "      <td>Merry Christmas from everyone here at @Burgean...</td>\n",
       "      <td>Burge and Gunson</td>\n",
       "      <td>0101000020E6100000B6D958897956C6BF5116BEBED6B5...</td>\n",
       "      <td>unclassified</td>\n",
       "      <td>Merry Christmas from everyone here at   🎄🎁 chr...</td>\n",
       "      <td>0.0</td>\n",
       "      <td>0.714</td>\n",
       "      <td>0.286</td>\n",
       "      <td>0.7506</td>\n",
       "    </tr>\n",
       "    <tr>\n",
       "      <th>23431</th>\n",
       "      <td>1209816483687215104</td>\n",
       "      <td>MERRY CHRISTMAS EVERYONE!!</td>\n",
       "      <td>Bellingham Film Palace</td>\n",
       "      <td>0101000020E610000030D63730B95194BFA59F70766BB7...</td>\n",
       "      <td>local</td>\n",
       "      <td>MERRY CHRISTMAS EVERYONE!!</td>\n",
       "      <td>0.0</td>\n",
       "      <td>0.329</td>\n",
       "      <td>0.671</td>\n",
       "      <td>0.6229</td>\n",
       "    </tr>\n",
       "    <tr>\n",
       "      <th>23432</th>\n",
       "      <td>1209816483687215104</td>\n",
       "      <td>MERRY CHRISTMAS EVERYONE!!</td>\n",
       "      <td>Bellingham Film Palace</td>\n",
       "      <td>0101000020E610000030D63730B95194BFA59F70766BB7...</td>\n",
       "      <td>local</td>\n",
       "      <td>MERRY CHRISTMAS EVERYONE!!</td>\n",
       "      <td>0.0</td>\n",
       "      <td>0.329</td>\n",
       "      <td>0.671</td>\n",
       "      <td>0.6229</td>\n",
       "    </tr>\n",
       "  </tbody>\n",
       "</table>\n",
       "<p>23433 rows × 10 columns</p>\n",
       "</div>"
      ],
      "text/plain": [
       "                        id                                               text  \\\n",
       "0      1209819446329724929  Merry Christmas from me and my lychee martini ...   \n",
       "1      1209819577770762240  @missionswl #Emmanuel #God in #Christ #Jesus\\n...   \n",
       "2      1209820427528409089  Ever wondered what Jeremy @theJeremyVine does ...   \n",
       "3      1209820766486900736  A whopping 2545 runners this morning at @bushy...   \n",
       "4      1210515867903123456  Art pic; Colours; Red.  Ladybug /Ladybird, War...   \n",
       "...                    ...                                                ...   \n",
       "23428  1209810083829428225  Merry Christmas everyone 🍻 https://t.co/oNube4...   \n",
       "23429  1209811961879441413  Happy and peaceful Christmas to all https://t....   \n",
       "23430  1209815028796469248  Merry Christmas from everyone here at @Burgean...   \n",
       "23431  1209816483687215104                         MERRY CHRISTMAS EVERYONE!!   \n",
       "23432  1209816483687215104                         MERRY CHRISTMAS EVERYONE!!   \n",
       "\n",
       "                            place_full_name  \\\n",
       "0               Mandarin Oriental Hyde Park   \n",
       "1                  Chelsea Methodist Church   \n",
       "2                   Battersea Power Station   \n",
       "3                             Bushy parkrun   \n",
       "4                               Warren Farm   \n",
       "...                                     ...   \n",
       "23428                           The Archers   \n",
       "23429  The Church of Our Most Holy Redeemer   \n",
       "23430                      Burge and Gunson   \n",
       "23431                Bellingham Film Palace   \n",
       "23432                Bellingham Film Palace   \n",
       "\n",
       "                                              place_geom  \\\n",
       "0      0101000020E610000094A5D6FB8D76C4BFF8544E7B4AC0...   \n",
       "1      0101000020E6100000DA1EBDE13E72C5BF30DAE38574BE...   \n",
       "2      0101000020E6100000978C63247B84C2BF3ECF9F36AABD...   \n",
       "3      0101000020E6100000419DF2E84658D5BF3F1D8F19A8B4...   \n",
       "4      0101000020E6100000AFD2DD7536E4D6BF0F0C207C28BF...   \n",
       "...                                                  ...   \n",
       "23428  0101000020E6100000C6FD47A643A7C93F88BB7A1519CB...   \n",
       "23429  0101000020E6100000E2218C9FC6BDC5BF677E350708BE...   \n",
       "23430  0101000020E6100000B6D958897956C6BF5116BEBED6B5...   \n",
       "23431  0101000020E610000030D63730B95194BFA59F70766BB7...   \n",
       "23432  0101000020E610000030D63730B95194BFA59F70766BB7...   \n",
       "\n",
       "      location_within_london  \\\n",
       "0               unclassified   \n",
       "1                      local   \n",
       "2                      local   \n",
       "3               unclassified   \n",
       "4               unclassified   \n",
       "...                      ...   \n",
       "23428                tourist   \n",
       "23429                tourist   \n",
       "23430           unclassified   \n",
       "23431                  local   \n",
       "23432                  local   \n",
       "\n",
       "                                           cleaned_tweet  neg    neu    pos  \\\n",
       "0      Merry Christmas from me and my lychee martini ...  0.0  0.759  0.241   \n",
       "1         Emmanuel  God in  Christ  Jesus\\nis with us...  0.0  0.742  0.258   \n",
       "2      Ever wondered what Jeremy   does on Christmas ...  0.0  0.877  0.123   \n",
       "3      A whopping 2545 runners this morning at  , WOW...  0.0  0.642  0.358   \n",
       "4      Art pic; Colours; Red.  Ladybug /Ladybird, War...  0.0  0.933  0.067   \n",
       "...                                                  ...  ...    ...    ...   \n",
       "23428                       Merry Christmas everyone 🍻    0.0  0.588  0.412   \n",
       "23429              Happy and peaceful Christmas to all    0.0  0.367  0.633   \n",
       "23430  Merry Christmas from everyone here at   🎄🎁 chr...  0.0  0.714  0.286   \n",
       "23431                         MERRY CHRISTMAS EVERYONE!!  0.0  0.329  0.671   \n",
       "23432                         MERRY CHRISTMAS EVERYONE!!  0.0  0.329  0.671   \n",
       "\n",
       "       compound  \n",
       "0        0.5423  \n",
       "1        0.7430  \n",
       "2        0.2732  \n",
       "3        0.9140  \n",
       "4        0.3818  \n",
       "...         ...  \n",
       "23428    0.5423  \n",
       "23429    0.7845  \n",
       "23430    0.7506  \n",
       "23431    0.6229  \n",
       "23432    0.6229  \n",
       "\n",
       "[23433 rows x 10 columns]"
      ]
     },
     "execution_count": 12,
     "metadata": {},
     "output_type": "execute_result"
    }
   ],
   "source": [
    "df"
   ]
  },
  {
   "cell_type": "markdown",
   "metadata": {},
   "source": [
    "The sentiment analysis worked, so a deeper look at the results would be appropriate."
   ]
  },
  {
   "cell_type": "code",
   "execution_count": 13,
   "metadata": {},
   "outputs": [],
   "source": [
    "from matplotlib import pyplot as plt\n",
    "import numpy as np\n",
    "plt.rc('font', family='Helvetica')"
   ]
  },
  {
   "cell_type": "code",
   "execution_count": 143,
   "metadata": {},
   "outputs": [],
   "source": [
    " def pol_plot(df, user_classification_column):\n",
    "    user_groups = [\"local\", \"tourist\"]\n",
    "    group_names = [\"Local users\", \"Tourist users\"]\n",
    "    for group, group_name in zip(user_groups, group_names):\n",
    "        dframe = df.loc[df[user_classification_column] == group]\n",
    "        edgecolor = \"black\"\n",
    "        alpha = 0.6\n",
    "        fig, ax = plt.subplots()\n",
    "        columns = [\"pos\", \"neg\", \"neu\"]\n",
    "        colors = [\"green\", \"red\", \"blue\"]\n",
    "        legend_dict = dict(zip(columns, colors))\n",
    "\n",
    "        labels = [\"Positive\", \"Negative\", \"Neutral\"]\n",
    "        handles = [plt.Rectangle((0,0),1,1, facecolor=legend_dict[column], alpha=alpha, edgecolor=edgecolor) for column in columns]\n",
    "\n",
    "        for index, (col, color) in enumerate(zip(columns, colors)):\n",
    "            if index == 0:\n",
    "                hist_tuple_first = np.histogram(dframe[col])\n",
    "                width = (hist_tuple_first[1][1] - hist_tuple_first[1][0])/(len(columns))\n",
    "                print(width)\n",
    "                ax.bar(hist_tuple_first[1][:-1] - width, hist_tuple_first[0], facecolor=color, alpha=alpha, width=width, edgecolor=edgecolor)\n",
    "            else:\n",
    "                hist_tuple = np.histogram(dframe[col], bins=hist_tuple_first[1])\n",
    "                ax.bar(hist_tuple[1][:-1] + width * (index - 1), hist_tuple[0], facecolor=color, alpha=alpha, width=width, edgecolor=edgecolor)\n",
    "\n",
    "        plt.legend(handles, labels)\n",
    "        plt.grid(True, which=\"both\", alpha=0.3, linewidth=0.5)\n",
    "        plt.title(f\"Polarity distribution of {group_name}\")\n",
    "        plt.tight_layout()"
   ]
  },
  {
   "cell_type": "code",
   "execution_count": 144,
   "metadata": {},
   "outputs": [
    {
     "name": "stdout",
     "output_type": "stream",
     "text": [
      "0.03333333333333333\n",
      "0.03333333333333333\n"
     ]
    },
    {
     "data": {
      "image/png": "[encoded data removed]",
      "text/plain": [
       "<Figure size 432x288 with 1 Axes>"
      ]
     },
     "metadata": {
      "needs_background": "light"
     },
     "output_type": "display_data"
    },
    {
     "data": {
      "image/png": "[encoded data removed]",
      "text/plain": [
       "<Figure size 432x288 with 1 Axes>"
      ]
     },
     "metadata": {
      "needs_background": "light"
     },
     "output_type": "display_data"
    }
   ],
   "source": [
    "pol_plot(df, \"location_within_london\")"
   ]
  },
  {
   "cell_type": "code",
   "execution_count": 15,
   "metadata": {},
   "outputs": [],
   "source": [
    "from IPython.display import Markdown"
   ]
  },
  {
   "cell_type": "code",
   "execution_count": 88,
   "metadata": {},
   "outputs": [],
   "source": [
    "def pretty_print_row(df, row_indices, color_dict, text_col):\n",
    "    markdown = \"\"\n",
    "    for i in row_indices:\n",
    "        markdown = add_to_markdown(markdown, \"{:-^75}\".format(i))\n",
    "        markdown = add_to_markdown(markdown, df.iloc[i][text_col])\n",
    "        \n",
    "        for key in color_dict.keys():\n",
    "            markdown = add_to_markdown(markdown, df.iloc[i][key], color=color_dict[key])\n",
    "    return markdown\n",
    "\n",
    "def add_to_markdown(str_1, str_2, color=\"black\"):\n",
    "    str_1 = str(str_1)\n",
    "    str_2 = str(str_2)\n",
    "    \n",
    "    if color==\"black\":\n",
    "        return str_1 + str_2 + \"<br>\"\n",
    "    else:\n",
    "        return str_1 + \"<p style=color:{}>\".format(color) + str_2 + \"</p>\""
   ]
  },
  {
   "cell_type": "code",
   "execution_count": 89,
   "metadata": {},
   "outputs": [],
   "source": [
    "def get_high_polarity_tweets(df, quantile=0.9, max_tweets=50):\n",
    "    polarity_dict = {}\n",
    "    for polarity in [\"pos\", \"neg\"]:\n",
    "        quantile = df[polarity].quantile(quantile)\n",
    "        polarity_dict[polarity] = df[polarity].sort_values(ascending=False).loc[df[polarity] > quantile].index[:max_tweets]\n",
    "    return polarity_dict"
   ]
  },
  {
   "cell_type": "code",
   "execution_count": 90,
   "metadata": {},
   "outputs": [
    {
     "data": {
      "text/markdown": [
       "-----------------------------------15580-----------------------------------<br>@TheSun Classy<br><p style=color:green>1.0</p><p style=color:red>0.0</p><p style=color:blue>0.0</p>-----------------------------------12047-----------------------------------<br>@work1ngmensclub  cheered https://t.co/ou9i42k5cb<br><p style=color:green>1.0</p><p style=color:red>0.0</p><p style=color:blue>0.0</p>-----------------------------------17875-----------------------------------<br>Gratitude. https://t.co/sv8AEx7GL5<br><p style=color:green>1.0</p><p style=color:red>0.0</p><p style=color:blue>0.0</p>-----------------------------------2131------------------------------------<br>@mouthwaite @BlenheimPalace @cescloveslife @realDonaldTrump \n",
       "Cool! https://t.co/11fkj7sWhG<br><p style=color:green>1.0</p><p style=color:red>0.0</p><p style=color:blue>0.0</p>-----------------------------------3805------------------------------------<br>@DJNoreenKhan Lovely @DJNoreenKhan \n",
       "@realDonaldTrump https://t.co/NKVma9rlm2<br><p style=color:green>1.0</p><p style=color:red>0.0</p><p style=color:blue>0.0</p>-----------------------------------2126------------------------------------<br>@salmahayek @realDonaldTrump \n",
       "Cool! https://t.co/HJyfBzoNfI<br><p style=color:green>1.0</p><p style=color:red>0.0</p><p style=color:blue>0.0</p>-----------------------------------12045-----------------------------------<br>@FatWhiteFamily  Cheers https://t.co/MIN39WJ359<br><p style=color:green>1.0</p><p style=color:red>0.0</p><p style=color:blue>0.0</p>-----------------------------------11000-----------------------------------<br>Lovely<br><p style=color:green>1.0</p><p style=color:red>0.0</p><p style=color:blue>0.0</p>-----------------------------------1613------------------------------------<br>@Gelderdgary1979 @LUFC @FulhamFC Definitely<br><p style=color:green>1.0</p><p style=color:red>0.0</p><p style=color:blue>0.0</p>-----------------------------------11045-----------------------------------<br>love @clairo 💖💖 https://t.co/e97ouT4qJF<br><p style=color:green>1.0</p><p style=color:red>0.0</p><p style=color:blue>0.0</p>-----------------------------------6341------------------------------------<br>Hope ✨ https://t.co/Ex1oRZUtSn<br><p style=color:green>1.0</p><p style=color:red>0.0</p><p style=color:blue>0.0</p>-----------------------------------10708-----------------------------------<br>@KieranNdl Nice<br><p style=color:green>1.0</p><p style=color:red>0.0</p><p style=color:blue>0.0</p>-----------------------------------6581------------------------------------<br>Hope. https://t.co/DFRlK8mdAD<br><p style=color:green>1.0</p><p style=color:red>0.0</p><p style=color:blue>0.0</p>-----------------------------------7475------------------------------------<br>@10DowningStreet @BorisJohnson @realDonaldTrump \n",
       "@BorisJohnson Congratulations https://t.co/DX3cSdNTcF<br><p style=color:green>1.0</p><p style=color:red>0.0</p><p style=color:blue>0.0</p>-----------------------------------9549------------------------------------<br>beauty https://t.co/EVRDBDNYQM<br><p style=color:green>1.0</p><p style=color:red>0.0</p><p style=color:blue>0.0</p>-----------------------------------9245------------------------------------<br>Focused https://t.co/zzYtdtkyuA<br><p style=color:green>1.0</p><p style=color:red>0.0</p><p style=color:blue>0.0</p>-----------------------------------9152------------------------------------<br>pretty https://t.co/ydRuSH3Zye<br><p style=color:green>1.0</p><p style=color:red>0.0</p><p style=color:blue>0.0</p>-----------------------------------4867------------------------------------<br>@realpreityzinta @realDonaldTrump \n",
       "cool! https://t.co/lKoXW2WNbv<br><p style=color:green>1.0</p><p style=color:red>0.0</p><p style=color:blue>0.0</p>-----------------------------------5448------------------------------------<br>Classy https://t.co/8AnPU2MifH<br><p style=color:green>1.0</p><p style=color:red>0.0</p><p style=color:blue>0.0</p>-----------------------------------13308-----------------------------------<br>Cool https://t.co/FnmKa8CWKD<br><p style=color:green>1.0</p><p style=color:red>0.0</p><p style=color:blue>0.0</p>-----------------------------------1542------------------------------------<br>Nice @DegenerateFoxUK https://t.co/3QJrf74mWX<br><p style=color:green>1.0</p><p style=color:red>0.0</p><p style=color:blue>0.0</p>-----------------------------------3070------------------------------------<br>Thriller! https://t.co/kJH6pylVNY<br><p style=color:green>1.0</p><p style=color:red>0.0</p><p style=color:blue>0.0</p>-----------------------------------17553-----------------------------------<br>thanks @LewisCapaldi https://t.co/21eghK5VFx<br><p style=color:green>1.0</p><p style=color:red>0.0</p><p style=color:blue>0.0</p>-----------------------------------5022------------------------------------<br>Help<br><p style=color:green>1.0</p><p style=color:red>0.0</p><p style=color:blue>0.0</p>-----------------------------------13752-----------------------------------<br>@Lloydstevens29 Beautiful<br><p style=color:green>1.0</p><p style=color:red>0.0</p><p style=color:blue>0.0</p>-----------------------------------22663-----------------------------------<br>@julietmusical Amazing!! https://t.co/eQyKRkYu56<br><p style=color:green>1.0</p><p style=color:red>0.0</p><p style=color:blue>0.0</p>-----------------------------------23039-----------------------------------<br>Heaven https://t.co/5bOFimGKs9<br><p style=color:green>1.0</p><p style=color:red>0.0</p><p style=color:blue>0.0</p>-----------------------------------20563-----------------------------------<br>@drjanaway Yes! Yes! YES!<br><p style=color:green>1.0</p><p style=color:red>0.0</p><p style=color:blue>0.0</p>-----------------------------------17063-----------------------------------<br>Excited!! https://t.co/UZJrqCwFfz<br><p style=color:green>1.0</p><p style=color:red>0.0</p><p style=color:blue>0.0</p>-----------------------------------7759------------------------------------<br>Pretty https://t.co/wA6rXJFl7F<br><p style=color:green>1.0</p><p style=color:red>0.0</p><p style=color:blue>0.0</p>-----------------------------------5088------------------------------------<br>breathtaking. @WinterWonderLDN https://t.co/xDhf1bjsbA<br><p style=color:green>1.0</p><p style=color:red>0.0</p><p style=color:blue>0.0</p>-----------------------------------1779------------------------------------<br>fun fun fun https://t.co/10LU6KDApY<br><p style=color:green>1.0</p><p style=color:red>0.0</p><p style=color:blue>0.0</p>-----------------------------------7758------------------------------------<br>Pretty https://t.co/wA6rXJFl7F<br><p style=color:green>1.0</p><p style=color:red>0.0</p><p style=color:blue>0.0</p>-----------------------------------19651-----------------------------------<br>@mseriesMMXIV Thanks<br><p style=color:green>1.0</p><p style=color:red>0.0</p><p style=color:blue>0.0</p>-----------------------------------10510-----------------------------------<br>Lovely Jubbly 👌 @dancafc80 https://t.co/iFFiKyHP01<br><p style=color:green>0.909</p><p style=color:red>0.0</p><p style=color:blue>0.091</p>-----------------------------------3009------------------------------------<br>@thomasgfarrellj @babyleggs727 beautiful thankyou 👌<br><p style=color:green>0.909</p><p style=color:red>0.0</p><p style=color:blue>0.091</p>-----------------------------------14825-----------------------------------<br>Lovely Day 💗 https://t.co/h0LlXsE3xW<br><p style=color:green>0.907</p><p style=color:red>0.0</p><p style=color:blue>0.093</p>-----------------------------------14746-----------------------------------<br>Feeling loved ♥️ https://t.co/A8DSbLUKmA<br><p style=color:green>0.906</p><p style=color:red>0.0</p><p style=color:blue>0.094</p>-----------------------------------12338-----------------------------------<br>365 days 👌👌👌 https://t.co/CvbHkNv3Pp<br><p style=color:green>0.902</p><p style=color:red>0.0</p><p style=color:blue>0.098</p>-----------------------------------17453-----------------------------------<br>@226mf_ Loveyouuuu💗💗💗<br><p style=color:green>0.898</p><p style=color:red>0.0</p><p style=color:blue>0.102</p>-----------------------------------10669-----------------------------------<br>pretty pretty london ✨ https://t.co/3L1mmIogyc<br><p style=color:green>0.897</p><p style=color:red>0.0</p><p style=color:blue>0.103</p>-----------------------------------8669------------------------------------<br>Gorgeous 💛 https://t.co/tDkMwZih9a<br><p style=color:green>0.891</p><p style=color:red>0.0</p><p style=color:blue>0.109</p>-----------------------------------7102------------------------------------<br>smile baby smile :) https://t.co/aVDV52dC6s<br><p style=color:green>0.889</p><p style=color:red>0.0</p><p style=color:blue>0.111</p>-----------------------------------11050-----------------------------------<br>With @GarthTroubadour \n",
       "\n",
       "Great pleasure https://t.co/LPS9WL9g9n<br><p style=color:green>0.886</p><p style=color:red>0.0</p><p style=color:blue>0.114</p>-----------------------------------13176-----------------------------------<br>Happy Anniversary gorgeous. https://t.co/NuDIE3t8vV<br><p style=color:green>0.885</p><p style=color:red>0.0</p><p style=color:blue>0.115</p>-----------------------------------19961-----------------------------------<br>Yes! Great name! https://t.co/PoYcSvRl76<br><p style=color:green>0.881</p><p style=color:red>0.0</p><p style=color:blue>0.119</p>-----------------------------------6732------------------------------------<br>✨ Enchanted Eltham ✨ https://t.co/tVL1IDUQs4<br><p style=color:green>0.878</p><p style=color:red>0.0</p><p style=color:blue>0.122</p>-----------------------------------8255------------------------------------<br>Good night xoxo https://t.co/je1yHoJLwo<br><p style=color:green>0.873</p><p style=color:red>0.0</p><p style=color:blue>0.127</p>-----------------------------------18657-----------------------------------<br>happy place. 💙💗 https://t.co/ngkKXjgLP9<br><p style=color:green>0.873</p><p style=color:red>0.0</p><p style=color:blue>0.127</p>------------------------------------153------------------------------------<br>JUSTICE. LIBERTY. SCIENCE. https://t.co/p4OrrZP1Mq<br><p style=color:green>0.872</p><p style=color:red>0.0</p><p style=color:blue>0.128</p>"
      ],
      "text/plain": [
       "<IPython.core.display.Markdown object>"
      ]
     },
     "execution_count": 90,
     "metadata": {},
     "output_type": "execute_result"
    }
   ],
   "source": [
    "high_polarity_tweets = get_high_polarity_tweets(df=df, max_tweets=50)\n",
    "markdown = pretty_print_row(df=df, row_indices=high_polarity_tweets[\"pos\"], color_dict=legend_dict, text_col=\"text\")\n",
    "Markdown(markdown)"
   ]
  },
  {
   "cell_type": "code",
   "execution_count": 19,
   "metadata": {},
   "outputs": [],
   "source": [
    "from scipy.stats import ttest_ind"
   ]
  },
  {
   "cell_type": "code",
   "execution_count": 111,
   "metadata": {},
   "outputs": [],
   "source": [
    "def print_t_test(df, user_classification_column, **kwargs):\n",
    "    columns = [\"pos\", \"neg\", \"neu\"]\n",
    "    colors = [\"green\", \"red\", \"blue\"]\n",
    "    labels = [\"Positive\", \"Negative\", \"Neutral\"]\n",
    "    result = \"\"\n",
    "    for col, col_name, color in zip([*columns, \"compound\"], [*labels, \"Compound\"], [*colors, \"Olive\"]):\n",
    "        t_test, p = ttest_ind(df[col].loc[df[user_classification_column] == \"local\"], df[col].loc[df[user_classification_column] == \"tourist\"], **kwargs)\n",
    "        result += f\"t-test for <a style=color:{color}><b>{col_name}</b></a> polarity:<br>\"\n",
    "        result += f\"t-test statistic: {round(t_test, 2)}<br>p-value: {round(p, 3)}\"\n",
    "        result += \"<br><br>\"\n",
    "    return Markdown(result)"
   ]
  },
  {
   "cell_type": "code",
   "execution_count": 112,
   "metadata": {},
   "outputs": [
    {
     "data": {
      "text/markdown": [
       "t-test for <a style=color:green><b>Positive</b></a> polarity:<br>t-test statistic: -1.05<br>p-value: 0.293<br><br>t-test for <a style=color:red><b>Negative</b></a> polarity:<br>t-test statistic: -1.32<br>p-value: 0.188<br><br>t-test for <a style=color:blue><b>Neutral</b></a> polarity:<br>t-test statistic: 1.66<br>p-value: 0.097<br><br>t-test for <a style=color:Olive><b>Compound</b></a> polarity:<br>t-test statistic: 6.1<br>p-value: 0.0<br><br>"
      ],
      "text/plain": [
       "<IPython.core.display.Markdown object>"
      ]
     },
     "execution_count": 112,
     "metadata": {},
     "output_type": "execute_result"
    }
   ],
   "source": [
    "print_t_test(df, \"location_within_london\", equal_var=False)"
   ]
  },
  {
   "cell_type": "code",
   "execution_count": 79,
   "metadata": {},
   "outputs": [
    {
     "data": {
      "image/png": "[encoded data removed]",
      "text/plain": [
       "<Figure size 432x288 with 1 Axes>"
      ]
     },
     "metadata": {
      "needs_background": "light"
     },
     "output_type": "display_data"
    },
    {
     "data": {
      "image/png": "[encoded data removed]",
      "text/plain": [
       "<Figure size 432x288 with 1 Axes>"
      ]
     },
     "metadata": {
      "needs_background": "light"
     },
     "output_type": "display_data"
    }
   ],
   "source": [
    "user_groups = [\"local\", \"tourist\"]\n",
    "group_names = [\"Local users\", \"Tourist users\"]\n",
    "user_classification_column = \"location_within_london\"\n",
    "for group, group_name in zip(user_groups, group_names):\n",
    "    dframe = df.loc[df[user_classification_column] == group]\n",
    "    edgecolor = \"black\"\n",
    "    alpha = 0.6\n",
    "    fig, ax = plt.subplots()\n",
    "    columns = [\"compound\"]\n",
    "    colors = [\"white\"]\n",
    "    legend_dict_comp = dict(zip(columns, colors))\n",
    "\n",
    "    labels = [\"Compound\"]\n",
    "    handles = [plt.Rectangle((0,0),1,1, facecolor=legend_dict_comp[column], alpha=alpha, edgecolor=edgecolor) for column in columns]\n",
    "\n",
    "    for index, (col, color) in enumerate(zip(columns, colors)):\n",
    "        if index == 0:\n",
    "            hist_tuple_first = np.histogram(dframe[col])\n",
    "            width = (hist_tuple_first[1][1] - hist_tuple_first[1][0])/(len(columns)+1)\n",
    "            ax.bar(hist_tuple_first[1][:-1] - width, hist_tuple_first[0], facecolor=color, alpha=alpha, width=width, edgecolor=edgecolor)\n",
    "        else:\n",
    "            hist_tuple = np.histogram(dframe[col], bins=hist_tuple_first[1])\n",
    "            ax.bar(hist_tuple[1][:-1] + width * (index - 1), hist_tuple[0], facecolor=color, alpha=alpha, width=width, edgecolor=edgecolor)\n",
    "\n",
    "    plt.legend(handles, labels)\n",
    "    plt.grid(True, which=\"both\", alpha=0.3, linewidth=0.5)\n",
    "    plt.title(f\"Polarity distribution of {group_name}\")\n",
    "    plt.tight_layout()"
   ]
  },
  {
   "cell_type": "markdown",
   "metadata": {},
   "source": [
    "From this, it is evident, that the sentiments themselves do differ between tourists and locals, although the cause of this requires further investigation, for example whether a handful of very active users in the locals group leads to a contribution bias that explains the abundance of highly positive compound tweet sentiments."
   ]
  },
  {
   "cell_type": "markdown",
   "metadata": {},
   "source": [
    "## TripAdvisor"
   ]
  },
  {
   "cell_type": "markdown",
   "metadata": {},
   "source": [
    "### 1. Load data"
   ]
  },
  {
   "cell_type": "code",
   "execution_count": 43,
   "metadata": {},
   "outputs": [],
   "source": [
    "env = dotenv_values()\n",
    "env[\"dbname\"] = \"TripAdvisor\"\n",
    "conn_ta = db.connect(**env)"
   ]
  },
  {
   "cell_type": "code",
   "execution_count": 46,
   "metadata": {},
   "outputs": [],
   "source": [
    "tripadvisor_sample_query = \"\"\"\n",
    "SELECT\n",
    "    *\n",
    "FROM\n",
    "    (\n",
    "    SELECT\n",
    "        reviews.id, reviews.title, reviews.rating, reviews.date::date, reviews.full, \n",
    "        reviews.user_profile, reviews.attr_id, case when ta_user_classification.class_within_gl then 'local' else 'tourist' end, attractions.geom\n",
    "    FROM\n",
    "        reviews\n",
    "    JOIN\n",
    "        users\n",
    "    ON\n",
    "        users.profile = reviews.user_profile\n",
    "    JOIN\n",
    "        attractions\n",
    "    ON\n",
    "        reviews.attr_id = attractions.id\n",
    "    JOIN\n",
    "        ta_user_classification\n",
    "    ON\n",
    "        reviews.user_profile = ta_user_classification.profile\n",
    "         ) as s \n",
    "WHERE\n",
    "    date BETWEEN SYMMETRIC '2019-11-30' AND '2020-01-01'\n",
    "\"\"\""
   ]
  },
  {
   "cell_type": "code",
   "execution_count": 47,
   "metadata": {},
   "outputs": [],
   "source": [
    "df_ta = pd.read_sql(tripadvisor_sample_query, conn_ta)"
   ]
  },
  {
   "cell_type": "code",
   "execution_count": 48,
   "metadata": {},
   "outputs": [
    {
     "data": {
      "text/html": [
       "<div>\n",
       "<style scoped>\n",
       "    .dataframe tbody tr th:only-of-type {\n",
       "        vertical-align: middle;\n",
       "    }\n",
       "\n",
       "    .dataframe tbody tr th {\n",
       "        vertical-align: top;\n",
       "    }\n",
       "\n",
       "    .dataframe thead th {\n",
       "        text-align: right;\n",
       "    }\n",
       "</style>\n",
       "<table border=\"1\" class=\"dataframe\">\n",
       "  <thead>\n",
       "    <tr style=\"text-align: right;\">\n",
       "      <th></th>\n",
       "      <th>id</th>\n",
       "      <th>title</th>\n",
       "      <th>rating</th>\n",
       "      <th>date</th>\n",
       "      <th>full</th>\n",
       "      <th>user_profile</th>\n",
       "      <th>attr_id</th>\n",
       "      <th>case</th>\n",
       "      <th>geom</th>\n",
       "    </tr>\n",
       "  </thead>\n",
       "  <tbody>\n",
       "    <tr>\n",
       "      <th>0</th>\n",
       "      <td>732868532</td>\n",
       "      <td>Court  dinner</td>\n",
       "      <td>5</td>\n",
       "      <td>2019-12-15</td>\n",
       "      <td>An  amazing  venue  , full of   opulence  and ...</td>\n",
       "      <td>/Profile/katrinad947</td>\n",
       "      <td>19041690</td>\n",
       "      <td>tourist</td>\n",
       "      <td>0101000020E61000003D27BD6F7CEDB9BFD0D38041D2C1...</td>\n",
       "    </tr>\n",
       "    <tr>\n",
       "      <th>1</th>\n",
       "      <td>733257910</td>\n",
       "      <td>A striking and moving tribute to an icon of ou...</td>\n",
       "      <td>5</td>\n",
       "      <td>2019-12-17</td>\n",
       "      <td>The bust of Nelson Mandela now sits in a corri...</td>\n",
       "      <td>/Profile/richardpre</td>\n",
       "      <td>17326340</td>\n",
       "      <td>local</td>\n",
       "      <td>0101000020E610000025AFCE31207BBDBF8FE1B19FC5C0...</td>\n",
       "    </tr>\n",
       "    <tr>\n",
       "      <th>2</th>\n",
       "      <td>732271603</td>\n",
       "      <td>AMAZING!</td>\n",
       "      <td>5</td>\n",
       "      <td>2019-12-12</td>\n",
       "      <td>The best view ever! It’s fantastic! We’re thri...</td>\n",
       "      <td>/Profile/cmlz</td>\n",
       "      <td>15567100</td>\n",
       "      <td>tourist</td>\n",
       "      <td>0101000020E61000008E588B4F0130B6BFB343FCC396C0...</td>\n",
       "    </tr>\n",
       "    <tr>\n",
       "      <th>3</th>\n",
       "      <td>730683726</td>\n",
       "      <td>Not a 5* experience</td>\n",
       "      <td>1</td>\n",
       "      <td>2019-12-04</td>\n",
       "      <td>Positives- beautiful view! It’s truly an amazi...</td>\n",
       "      <td>/Profile/14georginal</td>\n",
       "      <td>15567100</td>\n",
       "      <td>tourist</td>\n",
       "      <td>0101000020E61000008E588B4F0130B6BFB343FCC396C0...</td>\n",
       "    </tr>\n",
       "    <tr>\n",
       "      <th>4</th>\n",
       "      <td>733574536</td>\n",
       "      <td>Stadium tour</td>\n",
       "      <td>5</td>\n",
       "      <td>2019-12-19</td>\n",
       "      <td>Tommy and harry top job wicked day thanks full...</td>\n",
       "      <td>/Profile/403garethh</td>\n",
       "      <td>14985376</td>\n",
       "      <td>tourist</td>\n",
       "      <td>0101000020E6100000B30C71AC8BDBB0BF8AAE0B3F38CD...</td>\n",
       "    </tr>\n",
       "    <tr>\n",
       "      <th>...</th>\n",
       "      <td>...</td>\n",
       "      <td>...</td>\n",
       "      <td>...</td>\n",
       "      <td>...</td>\n",
       "      <td>...</td>\n",
       "      <td>...</td>\n",
       "      <td>...</td>\n",
       "      <td>...</td>\n",
       "      <td>...</td>\n",
       "    </tr>\n",
       "    <tr>\n",
       "      <th>3825</th>\n",
       "      <td>731974852</td>\n",
       "      <td>Fantastic day</td>\n",
       "      <td>5</td>\n",
       "      <td>2019-12-10</td>\n",
       "      <td>We had a brilliant day- it was a gift given to...</td>\n",
       "      <td>/Profile/X7517CYangelab</td>\n",
       "      <td>194299</td>\n",
       "      <td>local</td>\n",
       "      <td>0101000020E61000009B1DA9BEF38BC0BF99805F2349C0...</td>\n",
       "    </tr>\n",
       "    <tr>\n",
       "      <th>3826</th>\n",
       "      <td>735180650</td>\n",
       "      <td>Pretty Market</td>\n",
       "      <td>5</td>\n",
       "      <td>2019-12-28</td>\n",
       "      <td>Beautiful market \\nLots of shopping and food c...</td>\n",
       "      <td>/Profile/RParbhoo</td>\n",
       "      <td>189047</td>\n",
       "      <td>tourist</td>\n",
       "      <td>0101000020E61000000EF7915B936EBFBFCCD0782288C1...</td>\n",
       "    </tr>\n",
       "    <tr>\n",
       "      <th>3827</th>\n",
       "      <td>734957020</td>\n",
       "      <td>One of the best spots at London</td>\n",
       "      <td>5</td>\n",
       "      <td>2019-12-27</td>\n",
       "      <td>A great place to see artists...to have a drink...</td>\n",
       "      <td>/Profile/PatriciaNare</td>\n",
       "      <td>189047</td>\n",
       "      <td>tourist</td>\n",
       "      <td>0101000020E61000000EF7915B936EBFBFCCD0782288C1...</td>\n",
       "    </tr>\n",
       "    <tr>\n",
       "      <th>3828</th>\n",
       "      <td>734350491</td>\n",
       "      <td>Christmas tidings</td>\n",
       "      <td>3</td>\n",
       "      <td>2019-12-23</td>\n",
       "      <td>Christmas is only a day away and Covent Garden...</td>\n",
       "      <td>/Profile/Museuman</td>\n",
       "      <td>189047</td>\n",
       "      <td>local</td>\n",
       "      <td>0101000020E61000000EF7915B936EBFBFCCD0782288C1...</td>\n",
       "    </tr>\n",
       "    <tr>\n",
       "      <th>3829</th>\n",
       "      <td>734293329</td>\n",
       "      <td>must visit it</td>\n",
       "      <td>5</td>\n",
       "      <td>2019-12-23</td>\n",
       "      <td>Very vibrant place with many events taking pla...</td>\n",
       "      <td>/Profile/dsotiroudis</td>\n",
       "      <td>189047</td>\n",
       "      <td>tourist</td>\n",
       "      <td>0101000020E61000000EF7915B936EBFBFCCD0782288C1...</td>\n",
       "    </tr>\n",
       "  </tbody>\n",
       "</table>\n",
       "<p>3830 rows × 9 columns</p>\n",
       "</div>"
      ],
      "text/plain": [
       "             id                                              title  rating  \\\n",
       "0     732868532                                      Court  dinner       5   \n",
       "1     733257910  A striking and moving tribute to an icon of ou...       5   \n",
       "2     732271603                                           AMAZING!       5   \n",
       "3     730683726                                Not a 5* experience       1   \n",
       "4     733574536                                       Stadium tour       5   \n",
       "...         ...                                                ...     ...   \n",
       "3825  731974852                                      Fantastic day       5   \n",
       "3826  735180650                                     Pretty Market        5   \n",
       "3827  734957020                    One of the best spots at London       5   \n",
       "3828  734350491                                  Christmas tidings       3   \n",
       "3829  734293329                                      must visit it       5   \n",
       "\n",
       "            date                                               full  \\\n",
       "0     2019-12-15  An  amazing  venue  , full of   opulence  and ...   \n",
       "1     2019-12-17  The bust of Nelson Mandela now sits in a corri...   \n",
       "2     2019-12-12  The best view ever! It’s fantastic! We’re thri...   \n",
       "3     2019-12-04  Positives- beautiful view! It’s truly an amazi...   \n",
       "4     2019-12-19  Tommy and harry top job wicked day thanks full...   \n",
       "...          ...                                                ...   \n",
       "3825  2019-12-10  We had a brilliant day- it was a gift given to...   \n",
       "3826  2019-12-28  Beautiful market \\nLots of shopping and food c...   \n",
       "3827  2019-12-27  A great place to see artists...to have a drink...   \n",
       "3828  2019-12-23  Christmas is only a day away and Covent Garden...   \n",
       "3829  2019-12-23  Very vibrant place with many events taking pla...   \n",
       "\n",
       "                 user_profile   attr_id     case  \\\n",
       "0        /Profile/katrinad947  19041690  tourist   \n",
       "1         /Profile/richardpre  17326340    local   \n",
       "2               /Profile/cmlz  15567100  tourist   \n",
       "3        /Profile/14georginal  15567100  tourist   \n",
       "4         /Profile/403garethh  14985376  tourist   \n",
       "...                       ...       ...      ...   \n",
       "3825  /Profile/X7517CYangelab    194299    local   \n",
       "3826        /Profile/RParbhoo    189047  tourist   \n",
       "3827    /Profile/PatriciaNare    189047  tourist   \n",
       "3828        /Profile/Museuman    189047    local   \n",
       "3829     /Profile/dsotiroudis    189047  tourist   \n",
       "\n",
       "                                                   geom  \n",
       "0     0101000020E61000003D27BD6F7CEDB9BFD0D38041D2C1...  \n",
       "1     0101000020E610000025AFCE31207BBDBF8FE1B19FC5C0...  \n",
       "2     0101000020E61000008E588B4F0130B6BFB343FCC396C0...  \n",
       "3     0101000020E61000008E588B4F0130B6BFB343FCC396C0...  \n",
       "4     0101000020E6100000B30C71AC8BDBB0BF8AAE0B3F38CD...  \n",
       "...                                                 ...  \n",
       "3825  0101000020E61000009B1DA9BEF38BC0BF99805F2349C0...  \n",
       "3826  0101000020E61000000EF7915B936EBFBFCCD0782288C1...  \n",
       "3827  0101000020E61000000EF7915B936EBFBFCCD0782288C1...  \n",
       "3828  0101000020E61000000EF7915B936EBFBFCCD0782288C1...  \n",
       "3829  0101000020E61000000EF7915B936EBFBFCCD0782288C1...  \n",
       "\n",
       "[3830 rows x 9 columns]"
      ]
     },
     "execution_count": 48,
     "metadata": {},
     "output_type": "execute_result"
    }
   ],
   "source": [
    "df_ta"
   ]
  },
  {
   "cell_type": "markdown",
   "metadata": {},
   "source": [
    "### 2. Preprocessing"
   ]
  },
  {
   "cell_type": "markdown",
   "metadata": {},
   "source": [
    "Unlike tweets, TripAdvisor reviews are required to have at least 200 characters, but can be significantly longer. This leads to most reviews being written in a less informal way. Furthermore, TripAdvisor forbids including any URLs, while mentions and hashtags are not supported features on the platform. This makes the preprocessing steps taken for Twitter largely unnecessary.\n",
    "\n",
    "Furthermore, the VADER SA eliminates the need for preprocessing steps typical to NLP problems, like stemming or lemmatization. Therefore, let's have a look at a review sample and check whether any other preprocessing might be necessary."
   ]
  },
  {
   "cell_type": "code",
   "execution_count": 69,
   "metadata": {},
   "outputs": [],
   "source": [
    "np.random.seed(0)\n",
    "ta_sample = np.random.randint(0, df_ta.shape[0], 10)"
   ]
  },
  {
   "cell_type": "code",
   "execution_count": 70,
   "metadata": {},
   "outputs": [
    {
     "name": "stdout",
     "output_type": "stream",
     "text": [
      "Booked to see The Man in the White Suit which unfortunately closed early so swapped the tickets for Curtains the replacement. The show itself was quite funny with good acting and some very good tunes.  Jason Manford played the lead role very well.\n",
      "\n",
      "The theatre is small, (the toilets in particular) but I was surprised the seats we choose (up in the balcony) had such a good view and the seats were comfortable. The bar was average with the usual high theatre price for drinks and there could have been a few more seats and tables.\n",
      "\n",
      "Would definitely return to see another show at this theatre.\n",
      "Offers lovely view - bollywood memories - must visit to relive all the scenes from bollywood movies.\n",
      "Gallery lay out well done, narrative in each room was very informative. Excellent coverage of the different phases of this artist.\n",
      "I visited the London Eye yesterday and had booked a time slot for the evening so that I could see the London skyline lit up. I booked online and the queue moved fairly quickly. The staff were friendly and helpful. I was lucky enough to get a clear evening. The views were fantastic. The ride lasts around 30 minutes and I thoroughly enjoyed it. I highly recommend the London Eye.\n",
      "The world famous Big Ben is undergoing 4 years of restoration.  One of the faces has been uncovered but the rest of the tower remains under a mass of scaffolding so sadly no iconic photos\n",
      "December is the best time of the year to visit London if you love Christmas. Carnaby street is one of the spots you should visit.\n",
      "\n",
      "Went for my birthday and had fab time .Staff was very helpful to tel the good location for taking photos .\n",
      "Had  drinks and ice cream ,the view from even the washroom is amazing .\n",
      "Interesting place to visit, however it is very overcrowded, so get prepared for long waiting times and plan accordingly. Definitely a landmark to see.\n",
      "The underground plies from the airport to many of the stations connecting the points of interest. The trains are busy peak hour but off peak hour it is much less. No need to rent a car when there is such a good connection. I travelled with the Visitor Oyster card and it was really good value for money\n",
      "This is about the Avanti First Class Lounge at Euston\n",
      "Been using this for years however waited five minutes at the bar before asking to be served\n",
      "Two Havana Clubs with no mixer £20 sorry cheaper elsewhere\n",
      "Don’t bother apart from free tea and coffee and cookies \n"
     ]
    }
   ],
   "source": [
    "for i in ta_sample:\n",
    "    print(df_ta.iloc[i][\"full\"])"
   ]
  },
  {
   "cell_type": "markdown",
   "metadata": {},
   "source": [
    "### 3. Sentiment Analysis"
   ]
  },
  {
   "cell_type": "code",
   "execution_count": 72,
   "metadata": {},
   "outputs": [],
   "source": [
    "def calculate_review_sentiment(series):\n",
    "    tweet = series[\"full\"]\n",
    "    sentiment = senti_analyzer.polarity_scores(tweet)\n",
    "    for key in sentiment.keys():\n",
    "        series[key] = sentiment[key]\n",
    "    return series"
   ]
  },
  {
   "cell_type": "code",
   "execution_count": 73,
   "metadata": {},
   "outputs": [],
   "source": [
    "df_ta = df_ta.apply(calculate_review_sentiment, axis=1)"
   ]
  },
  {
   "cell_type": "code",
   "execution_count": 96,
   "metadata": {},
   "outputs": [
    {
     "data": {
      "text/markdown": [
       "-----------------------------------2176------------------------------------<br>Very disappointing. House drinks included with no name spirits, limited food, broken charging points. This is one of the worst lounges I’ve been in and deffo wouldn’t come back.<br><p style=color:green>0.0</p><p style=color:red>0.381</p><p style=color:blue>0.619</p>------------------------------------146------------------------------------<br>Nothing really to say but it’s overcrowded and not sure what the way forward is. But think unfair you pay more for such a poor service.<br><p style=color:green>0.0</p><p style=color:red>0.359</p><p style=color:blue>0.641</p>-----------------------------------3106------------------------------------<br>We visited Hyde Park tk see winter wonderland. It was chaos. No organisation, massive fight broke out and it took 2 hours to get in. Shame as it is such a beautiful place. <br><p style=color:green>0.086</p><p style=color:red>0.318</p><p style=color:blue>0.596</p>-----------------------------------3265------------------------------------<br>This was a great museum. The history of the prison was artfully presented and I can’t believe how much we learned about this horrifying history of torture and mistreatment. Seeing the actual torture devices was fascinating and a bit terrifying too. <br><p style=color:green>0.125</p><p style=color:red>0.316</p><p style=color:blue>0.559</p>------------------------------------447------------------------------------<br>Really, don’t bother ...,,,,,,,,,,,,,,,,,,,,,Seats uncomfortable   Sooooooo bad.  ............ dancing out of time...... tall skinny snowman when film is cute and round......<br><p style=color:green>0.104</p><p style=color:red>0.305</p><p style=color:blue>0.591</p>-----------------------------------3588------------------------------------<br>London underground os old. Trains are old, stations are old. Very narrow, and scaring.\n",
       "\n",
       "Not the best place to be in case of a Panic Situation.<br><p style=color:green>0.0</p><p style=color:red>0.299</p><p style=color:blue>0.701</p>-----------------------------------1580------------------------------------<br>It is an expensive place to have a nap. Food is mediocre and the choise was underwhelming. But the worst of it was that I had to witness a racist rant coming from a British traveller toward a Muslim family. The staff managed it very poorly, and had the Muslim family removed rather then the racist man who had started the argument. I had to ask the staff to have him removed before anything happened to that racist man.<br><p style=color:green>0.0</p><p style=color:red>0.281</p><p style=color:blue>0.719</p>------------------------------------759------------------------------------<br>The afternoon tea was so bad it's not worth description Service was diabolical The Chef should be sacked terrible food It ruined our day in London I could make a better afternoon tea! Close it down<br><p style=color:green>0.062</p><p style=color:red>0.272</p><p style=color:blue>0.666</p>-----------------------------------1263------------------------------------<br>Very disappointing where have all the market and craft stalls gone replaced with food chains lost its character <br><p style=color:green>0.0</p><p style=color:red>0.266</p><p style=color:blue>0.734</p>-----------------------------------3723------------------------------------<br>Market disappointing - too repetitive ! \n",
       "Food stalls are ok and the food we had was hot and filled us up . Poor signage around the park so you struggle to find things. toilets are so disgusting ! No toilet paper and no paper towels. Even after asking an attendant they just shrugged it off . Seems a lot smaller than last year <br><p style=color:green>0.028</p><p style=color:red>0.264</p><p style=color:blue>0.708</p>"
      ],
      "text/plain": [
       "<IPython.core.display.Markdown object>"
      ]
     },
     "execution_count": 96,
     "metadata": {},
     "output_type": "execute_result"
    }
   ],
   "source": [
    "high_pol_reviews = get_high_polarity_tweets(df_ta, max_tweets=10)\n",
    "markdown = pretty_print_row(df_ta, high_pol_reviews[\"neg\"], legend_dict, text_col=\"full\")\n",
    "Markdown(markdown)"
   ]
  },
  {
   "cell_type": "code",
   "execution_count": 146,
   "metadata": {},
   "outputs": [
    {
     "name": "stdout",
     "output_type": "stream",
     "text": [
      "0.020066666666666667\n",
      "0.024166666666666666\n"
     ]
    },
    {
     "data": {
      "image/png": "[encoded data removed]",
      "text/plain": [
       "<Figure size 432x288 with 1 Axes>"
      ]
     },
     "metadata": {
      "needs_background": "light"
     },
     "output_type": "display_data"
    },
    {
     "data": {
      "image/png": "[encoded data removed]",
      "text/plain": [
       "<Figure size 432x288 with 1 Axes>"
      ]
     },
     "metadata": {
      "needs_background": "light"
     },
     "output_type": "display_data"
    }
   ],
   "source": [
    "pol_plot(df_ta, \"case\") # to do: fix x-axis"
   ]
  },
  {
   "cell_type": "code",
   "execution_count": 113,
   "metadata": {},
   "outputs": [
    {
     "data": {
      "text/markdown": [
       "t-test for <a style=color:green><b>Positive</b></a> polarity:<br>t-test statistic: 0.27<br>p-value: 0.787<br><br>t-test for <a style=color:red><b>Negative</b></a> polarity:<br>t-test statistic: 1.96<br>p-value: 0.05<br><br>t-test for <a style=color:blue><b>Neutral</b></a> polarity:<br>t-test statistic: -1.18<br>p-value: 0.237<br><br>t-test for <a style=color:Olive><b>Compound</b></a> polarity:<br>t-test statistic: -1.38<br>p-value: 0.167<br><br>"
      ],
      "text/plain": [
       "<IPython.core.display.Markdown object>"
      ]
     },
     "execution_count": 113,
     "metadata": {},
     "output_type": "execute_result"
    }
   ],
   "source": [
    "print_t_test(df_ta, \"case\", equal_var=False)"
   ]
  },
  {
   "cell_type": "markdown",
   "metadata": {},
   "source": [
    "Not surprisingly, the sentiment distributions of Twitter and TripAdvisor are vastly different. Generally, TripAdvisor reviews are more sentiment-laden, which is expected, since they are longer and people use it explicitly to describe experiences.\n",
    "\n",
    "That being said, there are differences between tourists' and locals' sentiment, but they differ across the two platforms: while on Twitter, a significant difference was found in the compound polarity, while on TripAdvisor the only significant difference was in negative polarity."
   ]
  },
  {
   "cell_type": "code",
   "execution_count": null,
   "metadata": {},
   "outputs": [],
   "source": []
  }
 ],
 "metadata": {
  "kernelspec": {
   "display_name": "Python 3",
   "language": "python",
   "name": "python3"
  },
  "language_info": {
   "codemirror_mode": {
    "name": "ipython",
    "version": 3
   },
   "file_extension": ".py",
   "mimetype": "text/x-python",
   "name": "python",
   "nbconvert_exporter": "python",
   "pygments_lexer": "ipython3",
   "version": "3.8.6"
  }
 },
 "nbformat": 4,
 "nbformat_minor": 4
}
